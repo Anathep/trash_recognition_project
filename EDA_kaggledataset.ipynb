{
 "cells": [
  {
   "cell_type": "markdown",
   "metadata": {
    "id": "I2705h0nfQxm"
   },
   "source": [
    "Lien vers Veille Tech :\n",
    "https://docs.google.com/document/d/1q6n9m-iSqd-StsmEKDcuAbyZLf_SIY0RGdv-Ledsvxk/edit?usp=sharing"
   ]
  },
  {
   "cell_type": "markdown",
   "metadata": {
    "id": "_axWo7HBRTo1"
   },
   "source": [
    "https://www.kaggle.com/datasets/feyzazkefe/trashnet"
   ]
  },
  {
   "cell_type": "code",
   "execution_count": 68,
   "metadata": {
    "executionInfo": {
     "elapsed": 7340,
     "status": "ok",
     "timestamp": 1734682519861,
     "user": {
      "displayName": "Anaïs Thepaut",
      "userId": "00042487018360891602"
     },
     "user_tz": -60
    },
    "id": "qEx_T5EwXenW"
   },
   "outputs": [],
   "source": [
    "import os\n",
    "import numpy as np\n",
    "import splitfolders\n",
    "import matplotlib.pyplot as plt\n",
    "import random\n",
    "from PIL import Image\n",
    "from sklearn.model_selection import train_test_split\n",
    "import tensorflow as tf\n",
    "from tensorflow.keras.models import Sequential\n",
    "from tensorflow.keras.layers import Conv2D, MaxPooling2D, Flatten, Dense, Dropout, Input, GlobalAveragePooling2D\n",
    "from tensorflow.keras.utils import to_categorical\n",
    "from tensorflow.keras.optimizers import Adam\n",
    "from tensorflow.keras.losses import categorical_crossentropy\n",
    "from tensorflow.keras.metrics import Accuracy\n",
    "from tensorflow.keras.applications import ResNet50, ResNet50V2, VGG16"
   ]
  },
  {
   "cell_type": "code",
   "execution_count": 3,
   "metadata": {},
   "outputs": [
    {
     "name": "stdout",
     "output_type": "stream",
     "text": [
      "Requirement already satisfied: kagglehub in /opt/anaconda3/lib/python3.11/site-packages (0.3.6)\n",
      "Requirement already satisfied: packaging in /opt/anaconda3/lib/python3.11/site-packages (from kagglehub) (23.1)\n",
      "Requirement already satisfied: requests in /opt/anaconda3/lib/python3.11/site-packages (from kagglehub) (2.32.3)\n",
      "Requirement already satisfied: tqdm in /opt/anaconda3/lib/python3.11/site-packages (from kagglehub) (4.65.0)\n",
      "Requirement already satisfied: charset-normalizer<4,>=2 in /opt/anaconda3/lib/python3.11/site-packages (from requests->kagglehub) (2.0.4)\n",
      "Requirement already satisfied: idna<4,>=2.5 in /opt/anaconda3/lib/python3.11/site-packages (from requests->kagglehub) (3.4)\n",
      "Requirement already satisfied: urllib3<3,>=1.21.1 in /opt/anaconda3/lib/python3.11/site-packages (from requests->kagglehub) (2.0.7)\n",
      "Requirement already satisfied: certifi>=2017.4.17 in /opt/anaconda3/lib/python3.11/site-packages (from requests->kagglehub) (2024.12.14)\n",
      "Note: you may need to restart the kernel to use updated packages.\n"
     ]
    }
   ],
   "source": [
    "pip install kagglehub"
   ]
  },
  {
   "cell_type": "code",
   "execution_count": 5,
   "metadata": {
    "colab": {
     "base_uri": "https://localhost:8080/"
    },
    "executionInfo": {
     "elapsed": 7425,
     "status": "ok",
     "timestamp": 1734682527283,
     "user": {
      "displayName": "Anaïs Thepaut",
      "userId": "00042487018360891602"
     },
     "user_tz": -60
    },
    "id": "qwY0LTRsXGZ-",
    "outputId": "ebffda04-8677-4e68-c55f-da7f78d2c903"
   },
   "outputs": [
    {
     "name": "stdout",
     "output_type": "stream",
     "text": [
      "Downloading from https://www.kaggle.com/api/v1/datasets/download/feyzazkefe/trashnet?dataset_version_number=1...\n"
     ]
    },
    {
     "name": "stderr",
     "output_type": "stream",
     "text": [
      "100%|██████████| 40.8M/40.8M [00:45<00:00, 943kB/s] "
     ]
    },
    {
     "name": "stdout",
     "output_type": "stream",
     "text": [
      "Extracting files...\n"
     ]
    },
    {
     "name": "stderr",
     "output_type": "stream",
     "text": [
      "\n"
     ]
    },
    {
     "name": "stdout",
     "output_type": "stream",
     "text": [
      "Path to dataset files: /Users/nana/.cache/kagglehub/datasets/feyzazkefe/trashnet/versions/1\n"
     ]
    }
   ],
   "source": [
    "import kagglehub\n",
    "\n",
    "# Download latest version\n",
    "path = kagglehub.dataset_download(\"feyzazkefe/trashnet\")\n",
    "\n",
    "print(\"Path to dataset files:\", path)"
   ]
  },
  {
   "cell_type": "code",
   "execution_count": 69,
   "metadata": {},
   "outputs": [],
   "source": [
    "path = \"/Users/nana/.cache/kagglehub/datasets/feyzazkefe/trashnet/versions/1\""
   ]
  },
  {
   "cell_type": "code",
   "execution_count": 70,
   "metadata": {
    "colab": {
     "base_uri": "https://localhost:8080/"
    },
    "executionInfo": {
     "elapsed": 6,
     "status": "ok",
     "timestamp": 1734682527283,
     "user": {
      "displayName": "Anaïs Thepaut",
      "userId": "00042487018360891602"
     },
     "user_tz": -60
    },
    "id": "2K7nLIk5n1GN",
    "outputId": "7ffa8265-d262-49d6-8bef-2c5d95c863b5"
   },
   "outputs": [
    {
     "name": "stdout",
     "output_type": "stream",
     "text": [
      "['dataset-resized']\n",
      "['paper', 'metal', 'cardboard', 'trash', 'glass', 'plastic']\n"
     ]
    }
   ],
   "source": [
    "folders = os.listdir(path)\n",
    "print(folders)\n",
    "# path only goes to one big folder \"dataset-resized\" / must adjust path\n",
    "trash_classes_path = os.path.join(path, \"dataset-resized\")\n",
    "trash_classes = os.listdir(trash_classes_path)\n",
    "print(trash_classes)"
   ]
  },
  {
   "cell_type": "markdown",
   "metadata": {},
   "source": [
    "## Option 1 : keep images in folders"
   ]
  },
  {
   "cell_type": "code",
   "execution_count": 7,
   "metadata": {
    "colab": {
     "base_uri": "https://localhost:8080/"
    },
    "executionInfo": {
     "elapsed": 1120,
     "status": "ok",
     "timestamp": 1734682528398,
     "user": {
      "displayName": "Anaïs Thepaut",
      "userId": "00042487018360891602"
     },
     "user_tz": -60
    },
    "id": "UU-ZD4s8fPbV",
    "outputId": "d2459efb-c60e-4b44-d551-c15f684091e4"
   },
   "outputs": [
    {
     "name": "stderr",
     "output_type": "stream",
     "text": [
      "Copying files: 2527 files [00:00, 4690.25 files/s]\n"
     ]
    }
   ],
   "source": [
    "# split data into train, validation and test folders\n",
    "splitfolders.ratio(trash_classes_path,seed=1337, output=\"trash-Splitted\", ratio=(0.7, 0.15, 0.15))"
   ]
  },
  {
   "cell_type": "code",
   "execution_count": 8,
   "metadata": {
    "executionInfo": {
     "elapsed": 3,
     "status": "ok",
     "timestamp": 1734682528398,
     "user": {
      "displayName": "Anaïs Thepaut",
      "userId": "00042487018360891602"
     },
     "user_tz": -60
    },
    "id": "IFYyKM2kgjoE"
   },
   "outputs": [],
   "source": [
    "# define paths to train, validation and test folders\n",
    "train_path = 'trash-Splitted/train/'\n",
    "val_path = 'trash-Splitted/val/'\n",
    "test_path = 'trash-Splitted/test/'"
   ]
  },
  {
   "cell_type": "code",
   "execution_count": 9,
   "metadata": {
    "executionInfo": {
     "elapsed": 3,
     "status": "ok",
     "timestamp": 1734682528398,
     "user": {
      "displayName": "Anaïs Thepaut",
      "userId": "00042487018360891602"
     },
     "user_tz": -60
    },
    "id": "z9fAjCp3gsGU"
   },
   "outputs": [],
   "source": [
    "# Select a few random images to be displayed\n",
    "random_images = []\n",
    "for trash_class in os.listdir(train_path):\n",
    "  class_path = os.path.join(train_path, trash_class) #define path to each trash_folder\n",
    "  image_files = os.listdir(class_path) # get all files from trash_folder\n",
    "  for f in random.sample(image_files,2): #randomly select 2 files in folder\n",
    "    random_images.append(os.path.join(class_path, f)) # append file path to list \"images\""
   ]
  },
  {
   "cell_type": "code",
   "execution_count": null,
   "metadata": {
    "colab": {
     "base_uri": "https://localhost:8080/",
     "height": 487
    },
    "executionInfo": {
     "elapsed": 1336,
     "status": "ok",
     "timestamp": 1734682529731,
     "user": {
      "displayName": "Anaïs Thepaut",
      "userId": "00042487018360891602"
     },
     "user_tz": -60
    },
    "id": "CiYRm-UImvaX",
    "outputId": "df58adcf-0752-4838-c150-94d3f5c3bf04"
   },
   "outputs": [
    {
     "data": {
      "image/png": "[encoded data removed]",
      "text/plain": [
       "<Figure size 640x480 with 12 Axes>"
      ]
     },
     "metadata": {},
     "output_type": "display_data"
    }
   ],
   "source": [
    "# Display them\n",
    "fig, axes = plt.subplots(len(trash_classes), 2)\n",
    "for index, image_path in enumerate(random_images):\n",
    "  image = Image.open(image_path)\n",
    "  ax = axes[index//2, index%2] #positionning images along the axis to not overlap\n",
    "  ax.imshow(image) #show data as image\n",
    "  ax.axis('off')  #don't show axis lines\n",
    "  ax.set_title(os.path.basename(os.path.dirname(image_path))) #get trash type from folder's names\n",
    "\n",
    "plt.tight_layout()\n",
    "plt.show()"
   ]
  },
  {
   "cell_type": "markdown",
   "metadata": {},
   "source": [
    "## Option 2 : regroup files in df"
   ]
  },
  {
   "cell_type": "code",
   "execution_count": 71,
   "metadata": {
    "executionInfo": {
     "elapsed": 5,
     "status": "ok",
     "timestamp": 1734682529731,
     "user": {
      "displayName": "Anaïs Thepaut",
      "userId": "00042487018360891602"
     },
     "user_tz": -60
    },
    "id": "6DoNhNlwwXmj"
   },
   "outputs": [
    {
     "data": {
      "text/plain": [
       "128"
      ]
     },
     "execution_count": 71,
     "metadata": {},
     "output_type": "execute_result"
    }
   ],
   "source": [
    "# test on 1 image from metal folder\n",
    "folder_path = os.path.join(trash_classes_path,\"metal\")\n",
    "img_size = (128,128)\n",
    "img = Image.open(os.path.join(folder_path,\"metal1.jpg\")).convert('RGB')\n",
    "img = img.resize(img_size)\n",
    "photo = np.array(img)\n",
    "len(photo)"
   ]
  },
  {
   "cell_type": "code",
   "execution_count": 72,
   "metadata": {},
   "outputs": [
    {
     "data": {
      "text/plain": [
       "{'cardboard': 0, 'glass': 1, 'metal': 2, 'paper': 3, 'plastic': 4, 'trash': 5}"
      ]
     },
     "execution_count": 72,
     "metadata": {},
     "output_type": "execute_result"
    }
   ],
   "source": [
    "categories = {category: index for index, category in enumerate(sorted(trash_classes))}\n",
    "categories"
   ]
  },
  {
   "cell_type": "code",
   "execution_count": 73,
   "metadata": {},
   "outputs": [],
   "source": [
    "images = []\n",
    "labels = []\n",
    "\n",
    "for folder in sorted(trash_classes):\n",
    "    class_path = os.path.join(trash_classes_path,folder)\n",
    "    for files in os.listdir(class_path):\n",
    "        folder_path = os.path.join(trash_classes_path,folder)\n",
    "        try:\n",
    "            img = Image.open(os.path.join(folder_path,files)).convert('RGB')\n",
    "            img = img.resize(img_size)\n",
    "            images.append(np.array(img))\n",
    "            labels.append(categories[folder])\n",
    "        except Exception as e:\n",
    "                    print(f\"Error loading image {files}: {e}\")\n"
   ]
  },
  {
   "cell_type": "code",
   "execution_count": 74,
   "metadata": {},
   "outputs": [
    {
     "data": {
      "text/plain": [
       "2527"
      ]
     },
     "execution_count": 74,
     "metadata": {},
     "output_type": "execute_result"
    }
   ],
   "source": [
    "len(images)"
   ]
  },
  {
   "cell_type": "code",
   "execution_count": 75,
   "metadata": {},
   "outputs": [],
   "source": [
    "labels = np.array(labels)\n",
    "images = np.array(images)"
   ]
  },
  {
   "cell_type": "code",
   "execution_count": 76,
   "metadata": {},
   "outputs": [],
   "source": [
    "X_train, X_test, y_train, y_test = train_test_split(images, labels, test_size=0.2, random_state=42)\n",
    "X_train, X_val, y_train, y_val = train_test_split(X_train, y_train, test_size=0.25, random_state=42)\n",
    "y_train = to_categorical(y_train, num_classes=6)\n",
    "y_val = to_categorical(y_val, num_classes=6)\n",
    "y_test = to_categorical(y_test, num_classes=6)"
   ]
  },
  {
   "cell_type": "code",
   "execution_count": 77,
   "metadata": {},
   "outputs": [],
   "source": [
    "X_train = X_train / 255\n",
    "X_test = X_test / 255\n",
    "X_val = X_val / 255"
   ]
  },
  {
   "cell_type": "code",
   "execution_count": 78,
   "metadata": {},
   "outputs": [
    {
     "data": {
      "text/plain": [
       "(1515, 128, 128, 3)"
      ]
     },
     "execution_count": 78,
     "metadata": {},
     "output_type": "execute_result"
    }
   ],
   "source": [
    "X_train.shape"
   ]
  },
  {
   "cell_type": "code",
   "execution_count": 83,
   "metadata": {},
   "outputs": [
    {
     "name": "stdout",
     "output_type": "stream",
     "text": [
      "Epoch 1/5\n",
      "\u001b[1m48/48\u001b[0m \u001b[32m━━━━━━━━━━━━━━━━━━━━\u001b[0m\u001b[37m\u001b[0m \u001b[1m1s\u001b[0m 13ms/step - accuracy: 0.1897 - loss: 20.2344 - val_accuracy: 0.3775 - val_loss: 4.3175\n",
      "Epoch 2/5\n",
      "\u001b[1m48/48\u001b[0m \u001b[32m━━━━━━━━━━━━━━━━━━━━\u001b[0m\u001b[37m\u001b[0m \u001b[1m1s\u001b[0m 10ms/step - accuracy: 0.3139 - loss: 3.4014 - val_accuracy: 0.3874 - val_loss: 1.7354\n",
      "Epoch 3/5\n",
      "\u001b[1m48/48\u001b[0m \u001b[32m━━━━━━━━━━━━━━━━━━━━\u001b[0m\u001b[37m\u001b[0m \u001b[1m0s\u001b[0m 10ms/step - accuracy: 0.3818 - loss: 2.0504 - val_accuracy: 0.3972 - val_loss: 2.2988\n",
      "Epoch 4/5\n",
      "\u001b[1m48/48\u001b[0m \u001b[32m━━━━━━━━━━━━━━━━━━━━\u001b[0m\u001b[37m\u001b[0m \u001b[1m1s\u001b[0m 10ms/step - accuracy: 0.3305 - loss: 2.9505 - val_accuracy: 0.2273 - val_loss: 3.3138\n",
      "Epoch 5/5\n",
      "\u001b[1m48/48\u001b[0m \u001b[32m━━━━━━━━━━━━━━━━━━━━\u001b[0m\u001b[37m\u001b[0m \u001b[1m0s\u001b[0m 10ms/step - accuracy: 0.3091 - loss: 3.4749 - val_accuracy: 0.2609 - val_loss: 4.4027\n"
     ]
    }
   ],
   "source": [
    "model = Sequential([\n",
    "    Flatten(input_shape=(128,128,3)),\n",
    "    Dense(64, activation='relu'),\n",
    "    Dense(6, activation='softmax')\n",
    "])\n",
    "\n",
    "# Compile the model\n",
    "model.compile(optimizer='adam', loss='categorical_crossentropy', metrics=['accuracy'])\n",
    "trained_model = model.fit(\n",
    "    X_train,y_train,\n",
    "    validation_data=(X_val, y_val),\n",
    "    epochs=5,\n",
    "    batch_size=32\n",
    ")"
   ]
  }
 ],
 "metadata": {
  "colab": {
   "authorship_tag": "ABX9TyMnEAAcg+K6S/dduivl2aHq",
   "provenance": []
  },
  "kernelspec": {
   "display_name": "base",
   "language": "python",
   "name": "python3"
  },
  "language_info": {
   "codemirror_mode": {
    "name": "ipython",
    "version": 3
   },
   "file_extension": ".py",
   "mimetype": "text/x-python",
   "name": "python",
   "nbconvert_exporter": "python",
   "pygments_lexer": "ipython3",
   "version": "3.11.7"
  }
 },
 "nbformat": 4,
 "nbformat_minor": 0
}
