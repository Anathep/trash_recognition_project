{
 "cells": [
  {
   "cell_type": "markdown",
   "metadata": {
    "id": "I2705h0nfQxm"
   },
   "source": [
    "Lien vers Veille Tech :\n",
    "https://docs.google.com/document/d/1q6n9m-iSqd-StsmEKDcuAbyZLf_SIY0RGdv-Ledsvxk/edit?usp=sharing"
   ]
  },
  {
   "cell_type": "markdown",
   "metadata": {
    "id": "_axWo7HBRTo1"
   },
   "source": [
    "https://www.kaggle.com/datasets/feyzazkefe/trashnet"
   ]
  },
  {
   "cell_type": "code",
   "execution_count": 1,
   "metadata": {
    "colab": {
     "base_uri": "https://localhost:8080/"
    },
    "executionInfo": {
     "elapsed": 4527,
     "status": "ok",
     "timestamp": 1734682512525,
     "user": {
      "displayName": "Anaïs Thepaut",
      "userId": "00042487018360891602"
     },
     "user_tz": -60
    },
    "id": "wxdUl3AFf2OR",
    "outputId": "dada9f93-6b58-490d-ee64-1c3520c7a35d"
   },
   "outputs": [
    {
     "name": "stdout",
     "output_type": "stream",
     "text": [
      "Collecting split-folders\n",
      "  Downloading split_folders-0.5.1-py3-none-any.whl.metadata (6.2 kB)\n",
      "Downloading split_folders-0.5.1-py3-none-any.whl (8.4 kB)\n",
      "Installing collected packages: split-folders\n",
      "Successfully installed split-folders-0.5.1\n",
      "Note: you may need to restart the kernel to use updated packages.\n"
     ]
    }
   ],
   "source": [
    "pip install split-folders"
   ]
  },
  {
   "cell_type": "code",
   "execution_count": 2,
   "metadata": {
    "executionInfo": {
     "elapsed": 7340,
     "status": "ok",
     "timestamp": 1734682519861,
     "user": {
      "displayName": "Anaïs Thepaut",
      "userId": "00042487018360891602"
     },
     "user_tz": -60
    },
    "id": "qEx_T5EwXenW"
   },
   "outputs": [],
   "source": [
    "import os\n",
    "import numpy as np\n",
    "import splitfolders\n",
    "import tensorflow as tf\n",
    "import keras.layers as tkl\n",
    "from keras.callbacks import ModelCheckpoint\n",
    "from keras.callbacks import CSVLogger\n",
    "import matplotlib.pyplot as plt"
   ]
  },
  {
   "cell_type": "code",
   "execution_count": 4,
   "metadata": {},
   "outputs": [
    {
     "name": "stdout",
     "output_type": "stream",
     "text": [
      "Collecting kagglehub\n",
      "  Downloading kagglehub-0.3.6-py3-none-any.whl.metadata (30 kB)\n",
      "Requirement already satisfied: packaging in /opt/anaconda3/lib/python3.11/site-packages (from kagglehub) (23.1)\n",
      "Requirement already satisfied: requests in /opt/anaconda3/lib/python3.11/site-packages (from kagglehub) (2.32.3)\n",
      "Requirement already satisfied: tqdm in /opt/anaconda3/lib/python3.11/site-packages (from kagglehub) (4.65.0)\n",
      "Requirement already satisfied: charset-normalizer<4,>=2 in /opt/anaconda3/lib/python3.11/site-packages (from requests->kagglehub) (2.0.4)\n",
      "Requirement already satisfied: idna<4,>=2.5 in /opt/anaconda3/lib/python3.11/site-packages (from requests->kagglehub) (3.4)\n",
      "Requirement already satisfied: urllib3<3,>=1.21.1 in /opt/anaconda3/lib/python3.11/site-packages (from requests->kagglehub) (2.0.7)\n",
      "Requirement already satisfied: certifi>=2017.4.17 in /opt/anaconda3/lib/python3.11/site-packages (from requests->kagglehub) (2024.12.14)\n",
      "Downloading kagglehub-0.3.6-py3-none-any.whl (51 kB)\n",
      "Installing collected packages: kagglehub\n",
      "Successfully installed kagglehub-0.3.6\n",
      "Note: you may need to restart the kernel to use updated packages.\n"
     ]
    }
   ],
   "source": [
    "pip install kagglehub"
   ]
  },
  {
   "cell_type": "code",
   "execution_count": 5,
   "metadata": {
    "colab": {
     "base_uri": "https://localhost:8080/"
    },
    "executionInfo": {
     "elapsed": 7425,
     "status": "ok",
     "timestamp": 1734682527283,
     "user": {
      "displayName": "Anaïs Thepaut",
      "userId": "00042487018360891602"
     },
     "user_tz": -60
    },
    "id": "qwY0LTRsXGZ-",
    "outputId": "ebffda04-8677-4e68-c55f-da7f78d2c903"
   },
   "outputs": [
    {
     "name": "stdout",
     "output_type": "stream",
     "text": [
      "Downloading from https://www.kaggle.com/api/v1/datasets/download/feyzazkefe/trashnet?dataset_version_number=1...\n"
     ]
    },
    {
     "name": "stderr",
     "output_type": "stream",
     "text": [
      "100%|██████████| 40.8M/40.8M [00:45<00:00, 943kB/s] "
     ]
    },
    {
     "name": "stdout",
     "output_type": "stream",
     "text": [
      "Extracting files...\n"
     ]
    },
    {
     "name": "stderr",
     "output_type": "stream",
     "text": [
      "\n"
     ]
    },
    {
     "name": "stdout",
     "output_type": "stream",
     "text": [
      "Path to dataset files: /Users/nana/.cache/kagglehub/datasets/feyzazkefe/trashnet/versions/1\n"
     ]
    }
   ],
   "source": [
    "import kagglehub\n",
    "\n",
    "# Download latest version\n",
    "path = kagglehub.dataset_download(\"feyzazkefe/trashnet\")\n",
    "\n",
    "print(\"Path to dataset files:\", path)"
   ]
  },
  {
   "cell_type": "code",
   "execution_count": 6,
   "metadata": {
    "colab": {
     "base_uri": "https://localhost:8080/"
    },
    "executionInfo": {
     "elapsed": 6,
     "status": "ok",
     "timestamp": 1734682527283,
     "user": {
      "displayName": "Anaïs Thepaut",
      "userId": "00042487018360891602"
     },
     "user_tz": -60
    },
    "id": "2K7nLIk5n1GN",
    "outputId": "7ffa8265-d262-49d6-8bef-2c5d95c863b5"
   },
   "outputs": [
    {
     "name": "stdout",
     "output_type": "stream",
     "text": [
      "['.DS_Store', 'dataset-resized']\n",
      "['paper', '.DS_Store', 'metal', 'cardboard', 'trash', 'glass', 'plastic']\n"
     ]
    }
   ],
   "source": [
    "trash_classes = os.listdir(path)\n",
    "print(trash_classes)\n",
    "# path only goes to one big folder \"dataset-resized\" / must adjust path\n",
    "trash_classes_path = os.path.join(path, \"dataset-resized\")\n",
    "trash_classes = os.listdir(trash_classes_path)\n",
    "print(trash_classes)"
   ]
  },
  {
   "cell_type": "code",
   "execution_count": 7,
   "metadata": {
    "colab": {
     "base_uri": "https://localhost:8080/"
    },
    "executionInfo": {
     "elapsed": 1120,
     "status": "ok",
     "timestamp": 1734682528398,
     "user": {
      "displayName": "Anaïs Thepaut",
      "userId": "00042487018360891602"
     },
     "user_tz": -60
    },
    "id": "UU-ZD4s8fPbV",
    "outputId": "d2459efb-c60e-4b44-d551-c15f684091e4"
   },
   "outputs": [
    {
     "name": "stderr",
     "output_type": "stream",
     "text": [
      "Copying files: 2527 files [00:00, 4690.25 files/s]\n"
     ]
    }
   ],
   "source": [
    "# split data into train, validation and test folders\n",
    "splitfolders.ratio(trash_classes_path,seed=1337, output=\"trash-Splitted\", ratio=(0.7, 0.15, 0.15))"
   ]
  },
  {
   "cell_type": "code",
   "execution_count": 12,
   "metadata": {
    "executionInfo": {
     "elapsed": 3,
     "status": "ok",
     "timestamp": 1734682528398,
     "user": {
      "displayName": "Anaïs Thepaut",
      "userId": "00042487018360891602"
     },
     "user_tz": -60
    },
    "id": "IFYyKM2kgjoE"
   },
   "outputs": [],
   "source": [
    "# define paths to train, validation and test folders\n",
    "train_path = 'trash-Splitted/train/'\n",
    "val_path = 'trash-Splitted/val/'\n",
    "test_path = 'trash-Splitted/test/'"
   ]
  },
  {
   "cell_type": "code",
   "execution_count": 13,
   "metadata": {
    "executionInfo": {
     "elapsed": 3,
     "status": "ok",
     "timestamp": 1734682528398,
     "user": {
      "displayName": "Anaïs Thepaut",
      "userId": "00042487018360891602"
     },
     "user_tz": -60
    },
    "id": "z9fAjCp3gsGU"
   },
   "outputs": [],
   "source": [
    "import random\n",
    "\n",
    "# Select a few random images to be displayed\n",
    "images = []\n",
    "for trash_class in os.listdir(train_path):\n",
    "  class_path = os.path.join(train_path, trash_class) #define path to each trash_folder\n",
    "  image_files = os.listdir(class_path) # get all files from trash_folder\n",
    "  for f in random.sample(image_files,2): #randomly select 2 files in folder\n",
    "    images.append(os.path.join(class_path, f)) # append file path to list \"images\""
   ]
  },
  {
   "cell_type": "code",
   "execution_count": 14,
   "metadata": {
    "colab": {
     "base_uri": "https://localhost:8080/",
     "height": 487
    },
    "executionInfo": {
     "elapsed": 1336,
     "status": "ok",
     "timestamp": 1734682529731,
     "user": {
      "displayName": "Anaïs Thepaut",
      "userId": "00042487018360891602"
     },
     "user_tz": -60
    },
    "id": "CiYRm-UImvaX",
    "outputId": "df58adcf-0752-4838-c150-94d3f5c3bf04"
   },
   "outputs": [
    {
     "data": {
      "image/png": "[encoded data removed]",
      "text/plain": [
       "<Figure size 640x480 with 14 Axes>"
      ]
     },
     "metadata": {},
     "output_type": "display_data"
    }
   ],
   "source": [
    "import matplotlib.pyplot as plt\n",
    "from PIL import Image\n",
    "\n",
    "# Display them\n",
    "fig, axes = plt.subplots(len(trash_classes), 2)\n",
    "for index, image_path in enumerate(images):\n",
    "  image = Image.open(image_path)\n",
    "  ax = axes[index//2, index%2] #positionning images along the axis to not overlap\n",
    "  ax.imshow(image) #show data as image\n",
    "  ax.axis('off')  #don't show axis lines\n",
    "  ax.set_title(os.path.basename(os.path.dirname(image_path))) #get trash type from folder's names\n",
    "\n",
    "plt.tight_layout()\n",
    "plt.show()"
   ]
  },
  {
   "cell_type": "code",
   "execution_count": 8,
   "metadata": {
    "executionInfo": {
     "elapsed": 5,
     "status": "ok",
     "timestamp": 1734682529731,
     "user": {
      "displayName": "Anaïs Thepaut",
      "userId": "00042487018360891602"
     },
     "user_tz": -60
    },
    "id": "6DoNhNlwwXmj"
   },
   "outputs": [],
   "source": []
  }
 ],
 "metadata": {
  "colab": {
   "authorship_tag": "ABX9TyMnEAAcg+K6S/dduivl2aHq",
   "provenance": []
  },
  "kernelspec": {
   "display_name": "base",
   "language": "python",
   "name": "python3"
  },
  "language_info": {
   "codemirror_mode": {
    "name": "ipython",
    "version": 3
   },
   "file_extension": ".py",
   "mimetype": "text/x-python",
   "name": "python",
   "nbconvert_exporter": "python",
   "pygments_lexer": "ipython3",
   "version": "3.11.7"
  }
 },
 "nbformat": 4,
 "nbformat_minor": 0
}
